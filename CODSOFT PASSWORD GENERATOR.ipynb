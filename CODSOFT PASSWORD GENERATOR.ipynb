{
 "cells": [
  {
   "cell_type": "code",
   "execution_count": 1,
   "id": "ce1a12f2",
   "metadata": {},
   "outputs": [
    {
     "name": "stdout",
     "output_type": "stream",
     "text": [
      "Enter Password length8\n",
      "Choose character set for passwords from these:\n",
      "  1.DIGITS 2.LETTERS 3.SPECIAL CHARACTERS 4.EXIT\n",
      "Pick a number: 2\n",
      "Pick a number: 1\n",
      "Pick a number: 3\n",
      "Pick a number: 2\n",
      "Pick a number: 3\n",
      "Pick a number: 1\n",
      "Pick a number: 1\n",
      "Pick a number: 3\n",
      "Pick a number: 2\n",
      "Pick a number: 4\n",
      "Random Passowrd is: v w U U 4 ' $ j\n"
     ]
    }
   ],
   "source": [
    "import random\n",
    "import string\n",
    "Len=int(input(\"Enter Password length\"))\n",
    "print(\"Choose character set for passwords from these:\\n \",\n",
    "     \"1.DIGITS\",'2.LETTERS','3.SPECIAL CHARACTERS','4.EXIT')\n",
    "charlist=\"\"\n",
    "while(True):\n",
    "    choice =int(input(\"Pick a number: \"))\n",
    "    if (choice==1):\n",
    "        charlist+= string.ascii_letters\n",
    "    elif(choice==2):\n",
    "        charlist+= string.digits\n",
    "    elif(choice==3):\n",
    "        charlist+= string.punctuation\n",
    "    elif(choice==4):\n",
    "        break\n",
    "    else:\n",
    "        print(\"Invalid Option!!\\nPick a valid option!!\")\n",
    "password=[]\n",
    "for i in range(Len):\n",
    "    rchar=random.choice(charlist)\n",
    "    password.append(rchar)\n",
    "print(\"Random Passowrd is: \" + \" \".join(password))"
   ]
  },
  {
   "cell_type": "code",
   "execution_count": null,
   "id": "47a4d014",
   "metadata": {},
   "outputs": [],
   "source": []
  }
 ],
 "metadata": {
  "kernelspec": {
   "display_name": "Python 3 (ipykernel)",
   "language": "python",
   "name": "python3"
  },
  "language_info": {
   "codemirror_mode": {
    "name": "ipython",
    "version": 3
   },
   "file_extension": ".py",
   "mimetype": "text/x-python",
   "name": "python",
   "nbconvert_exporter": "python",
   "pygments_lexer": "ipython3",
   "version": "3.11.5"
  }
 },
 "nbformat": 4,
 "nbformat_minor": 5
}
